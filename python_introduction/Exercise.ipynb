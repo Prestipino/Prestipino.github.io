{
 "cells": [
  {
   "cell_type": "code",
   "execution_count": 7,
   "id": "60e2f23d-0bef-4a9e-b528-5c4681941209",
   "metadata": {
    "editable": true,
    "slideshow": {
     "slide_type": ""
    },
    "tags": []
   },
   "outputs": [
    {
     "name": "stderr",
     "output_type": "stream",
     "text": [
      "D:\\Home\\cprestip\\Documents\\pyXRD\\pyXRD\\transformations.py:1924: UserWarning: No module named 'pyXRD._transformations'\n",
      "  warnings.warn(str(exc))\n"
     ]
    }
   ],
   "source": [
    "from pyXRD.pt_tables import pt_p"
   ]
  },
  {
   "cell_type": "code",
   "execution_count": 8,
   "id": "46588a82-4035-4d48-b6e9-98296d6c5ef8",
   "metadata": {
    "editable": true,
    "slideshow": {
     "slide_type": ""
    },
    "tags": []
   },
   "outputs": [],
   "source": [
    "def WT_dic(Mdict):\n",
    "    wt=0\n",
    "    for atom, num in Mdict.items():\n",
    "        wt+= pt_p(atom, 'At_w')*num\n",
    "    return wt\n",
    " \n",
    "def find_NEle(Formula):\n",
    "    atom0=Formula[0]\n",
    "    num0=''\n",
    "    for i, char in enumerate(Formula[1:]+'J'):\n",
    "        if char.islower():\n",
    "            atom0 += char\n",
    "        elif char.isnumeric() or char=='.':\n",
    "            num0 += char\n",
    "        elif char.isupper() or (char in '() '):\n",
    "            break\n",
    "    if num0=='':\n",
    "        num0='1'\n",
    "    return atom0, float(num0), Formula[i+1:]\n",
    "\n",
    "    \n",
    "def Formula2Dict(Formula):\n",
    "    FDict ={}\n",
    "    while True:\n",
    "        if Formula == '':\n",
    "            break\n",
    "        atom, num, Formula = find_NEle(Formula)\n",
    "        if atom in FDict:\n",
    "            FDict[atom]+= num\n",
    "        else:\n",
    "            FDict[atom] = num         \n",
    "    return FDict\n",
    "\n",
    "def Dict2Formula(Fdict):\n",
    "    out=''\n",
    "    for atom, num in Fdict.items():\n",
    "        out += f'{atom}{num:g}'\n",
    "    return out\n",
    "\n",
    "\n",
    "def Formual_parser(Formula):\n",
    "    Formula=Formula.replace('[','(').replace(']', ')')\n",
    "    while True:\n",
    "        start = Formula.rfind('(')\n",
    "        if start == -1:\n",
    "            break\n",
    "        end = Formula[start:].find(')')+start\n",
    "        Idict = Formula2Dict(Formula[start+1:end])\n",
    "        dummy, Inum, EndFormula = find_NEle('X'+Formula[end+1:])\n",
    "        Idict= {key:value* Inum for key, value in Idict.items()}\n",
    "        Formula = f'{Formula[:start]}{Dict2Formula(Idict)}{EndFormula}'\n",
    "    return Formula2Dict(Formula)\n",
    "\n"
   ]
  },
  {
   "cell_type": "code",
   "execution_count": 28,
   "id": "6685d1cb-c198-46be-af7b-af46fb96a13d",
   "metadata": {},
   "outputs": [],
   "source": [
    "def Formula_parser_s(formula):\n",
    "    FDict={}\n",
    "    atom0=formula[0]\n",
    "    num0=''\n",
    "    for char in formula[1:]+'J':\n",
    "        if char.islower():\n",
    "            atom0 += char\n",
    "        elif char.isnumeric() or char=='.':\n",
    "            num0 += char\n",
    "        elif char.isupper() :\n",
    "            if atom0 in FDict:\n",
    "                FDict[atom0]+=float(num0)\n",
    "            else:\n",
    "                FDict[atom0]=float(num0)                \n",
    "            atom0 = char\n",
    "            num0=''              \n",
    "    return FDict\n",
    "\n",
    "def MW_dic(Mdict):\n",
    "    return sum([pt_p(atom, 'At_w')*num for atom, num in Mdict.items()])\n",
    "\n",
    "def WT_dic(Mdict):\n",
    "    tweigh = MW_dic(Mdict)\n",
    "    return {atom: pt_p(atom, 'At_w') * num /tweigh for atom, num in Mdict.items()}"
   ]
  },
  {
   "cell_type": "markdown",
   "id": "44570821-4a71-4ba9-8d0f-58c4c8cedd20",
   "metadata": {},
   "source": [
    "## Calculate  the synthesis of 5g Cu22Fe8Ge4S32 ##\n",
    "starting from pure elements"
   ]
  },
  {
   "cell_type": "code",
   "execution_count": 33,
   "id": "2a14cf16-733e-4365-a4f1-9822bafe3f1d",
   "metadata": {},
   "outputs": [
    {
     "name": "stdout",
     "output_type": "stream",
     "text": [
      "{'Cu': 22.0, 'Fe': 8.0, 'Ge': 4.0, 'S': 32.0}\n",
      "{'Cu': 0.4422112650929395, 'Fe': 0.14131660156917225, 'Ge': 0.09190829920301435, 'S': 0.3245638341348739}\n",
      "{'Cu': 2.2110563254646975, 'Fe': 0.7065830078458613, 'Ge': 0.45954149601507177, 'S': 1.6228191706743695}\n"
     ]
    }
   ],
   "source": [
    "finalD=Formula_parser_s('Cu22Fe8Ge4S32')\n",
    "print(finalD)\n",
    "\n",
    "finalwt=WT_dic(finalD)\n",
    "print(finalwt)\n",
    "\n",
    "final_ele_w = {atom:val*5 for atom, val in finalwt.items()}\n",
    "print(final_ele_w)\n"
   ]
  },
  {
   "cell_type": "code",
   "execution_count": null,
   "id": "f0d19783-3052-484f-857d-2cde16a46743",
   "metadata": {},
   "outputs": [],
   "source": [
    "\n"
   ]
  },
  {
   "cell_type": "code",
   "execution_count": null,
   "id": "eb7ea3d2-5e24-4dd4-99ca-610d51057f4f",
   "metadata": {
    "editable": true,
    "slideshow": {
     "slide_type": ""
    },
    "tags": []
   },
   "outputs": [],
   "source": []
  },
  {
   "cell_type": "code",
   "execution_count": null,
   "id": "5b9b2f67-3ae6-4492-974c-84c4082701be",
   "metadata": {},
   "outputs": [],
   "source": []
  },
  {
   "cell_type": "code",
   "execution_count": null,
   "id": "2eb7426e-ab5b-4788-9fe7-8d6410addabf",
   "metadata": {},
   "outputs": [],
   "source": []
  },
  {
   "cell_type": "code",
   "execution_count": 91,
   "id": "76db6683-d6d5-4590-89d1-5add14212ae1",
   "metadata": {},
   "outputs": [],
   "source": []
  },
  {
   "cell_type": "code",
   "execution_count": 1,
   "id": "25c78cd4-e344-4d7c-9d5b-369478403154",
   "metadata": {},
   "outputs": [
    {
     "name": "stdout",
     "output_type": "stream",
     "text": [
      "Move disk 1 from A to C\n",
      "Move disk 2 from A to B\n",
      "Move disk 1 from C to B\n",
      "Move disk 3 from A to C\n",
      "Move disk 1 from B to A\n",
      "Move disk 2 from B to C\n",
      "Move disk 1 from A to C\n"
     ]
    }
   ],
   "source": [
    "def hanoi(n, source, target, auxiliary):\n",
    "    \"\"\"\n",
    "    Solves the Tower of Hanoi problem using recursion.\n",
    "\n",
    "    Parameters:\n",
    "    - n: Number of disks.\n",
    "    - source: Source peg.\n",
    "    - target: Target peg.\n",
    "    - auxiliary: Auxiliary peg.\n",
    "    \"\"\"\n",
    "    if n > 0:\n",
    "        # Move n-1 disks from source to auxiliary peg\n",
    "        hanoi(n - 1, source, auxiliary, target)\n",
    "\n",
    "        # Move the nth disk from source to target peg\n",
    "        print(f\"Move disk {n} from {source} to {target}\")\n",
    "\n",
    "        # Move the n-1 disks from auxiliary peg to target peg\n",
    "        hanoi(n - 1, auxiliary, target, source)\n",
    "\n",
    "\n",
    "# Example: Solve Tower of Hanoi for 3 disks\n",
    "hanoi(3, 'A', 'C', 'B')"
   ]
  },
  {
   "cell_type": "code",
   "execution_count": null,
   "id": "387dfda8-8788-4861-8889-b983b7036408",
   "metadata": {},
   "outputs": [],
   "source": []
  },
  {
   "cell_type": "code",
   "execution_count": null,
   "id": "4f929faf-6ec8-407d-af54-02ed214407eb",
   "metadata": {},
   "outputs": [],
   "source": []
  }
 ],
 "metadata": {
  "kernelspec": {
   "display_name": "Python 3 (ipykernel)",
   "language": "python",
   "name": "python3"
  },
  "language_info": {
   "codemirror_mode": {
    "name": "ipython",
    "version": 3
   },
   "file_extension": ".py",
   "mimetype": "text/x-python",
   "name": "python",
   "nbconvert_exporter": "python",
   "pygments_lexer": "ipython3",
   "version": "3.11.5"
  }
 },
 "nbformat": 4,
 "nbformat_minor": 5
}
