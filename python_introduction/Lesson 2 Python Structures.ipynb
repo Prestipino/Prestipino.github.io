{
 "cells": [
  {
   "cell_type": "markdown",
   "id": "f765311b-7c3f-44d4-a21a-914968f2fdf0",
   "metadata": {
    "jp-MarkdownHeadingCollapsed": true
   },
   "source": [
    "# Everything in python is an object #\n",
    "\n",
    "Numbers, lists, strings, functions, modules, and everything else in python is an object. Even attributes and methods of an object are objects.\n",
    "\n",
    "In python *=* is the assignment defining the right-hand side expression value to the name at the left "
   ]
  },
  {
   "cell_type": "code",
   "execution_count": 17,
   "id": "c5c4bb41-b121-4e08-ab98-a10d9a730792",
   "metadata": {},
   "outputs": [
    {
     "name": "stdout",
     "output_type": "stream",
     "text": [
      "140730254386184\n",
      "140730254386184\n",
      "140730254386184\n",
      "140730254386184\n",
      "<class 'int'>\n",
      "<class 'str'>\n"
     ]
    }
   ],
   "source": [
    "a=8\n",
    "b=8\n",
    "c=\"Hello\"\n",
    "d=\"Hello\"\n",
    "\n",
    "print(id(a))\n",
    "print(id(b))\n",
    "print(id(a))\n",
    "print(id(b))\n",
    "\n",
    "print(type(a))\n",
    "print(type(c))"
   ]
  },
  {
   "cell_type": "code",
   "execution_count": 18,
   "id": "119b7a5c-b1b7-428b-b18f-b6d7cdd56a6b",
   "metadata": {},
   "outputs": [
    {
     "name": "stdout",
     "output_type": "stream",
     "text": [
      "8\n",
      "0\n"
     ]
    }
   ],
   "source": [
    "print(a.numerator)\n",
    "print(a.imag)"
   ]
  },
  {
   "cell_type": "markdown",
   "id": "93b71ab6-8757-4d70-b326-28e49ed4cee1",
   "metadata": {},
   "source": [
    "___\n",
    "In Python, everything is an object. An object has its own internal state. Some objects allow you to change their internal state and others don’t.\n",
    "\n",
    "An object whose internal state can be changed is called a $mutable$ object, while an object whose internal state cannot be changed is called an $immutable$ object.\n",
    "\n",
    "The following are examples of immutable objects:  \n",
    "- Numbers (int, float, bool,…)\n",
    "- Strings\n",
    "- Tuples\n",
    "- Frozen sets\n",
    "___\n",
    "The following are examples of mutable objects:\n",
    "- Lists\n",
    "- Sets\n",
    "- Dictionaries\n",
    " \n",
    "User-defined classes can be mutable or immutable, depending on whether their internal state can be changed or not\n"
   ]
  },
  {
   "cell_type": "markdown",
   "id": "a0b4e054-44b6-42da-abf9-913c2bb64794",
   "metadata": {},
   "source": [
    "## Valid Names for Variables and Object ##\n",
    "\n",
    "A variable name may consist of alphanumeric characters (a-z, A-Z, 0-9) and the underscore symbol (_); a valid name cannot begin with a numerical value.\n",
    "\n",
    "    var: valid\n",
    "    _var2: valid\n",
    "    ApplePie_Yum_Yum: valid\n",
    "    2cool: invalid (begins with a numerical character)\n",
    "    I.am.the.best: invalid (contains .)\n",
    "\n",
    "They also cannot conflict with character sequences that are reserved by the Python language. As such, the following cannot be used as variable names:\n",
    "\n",
    "    for, while, break, pass, continue\n",
    "    in, is, not\n",
    "    if, else, elif\n",
    "    def, class, return, yield, raises\n",
    "    import, from, as, with\n",
    "    try, except, finally\n",
    "\n",
    "Avoid also to use class name as :\n",
    "        \n",
    "        list, int, float, complex, etc "
   ]
  },
  {
   "cell_type": "markdown",
   "id": "0daac202-1c0c-40d4-bf69-060ff22ba212",
   "metadata": {},
   "source": [
    "## Standards Object type ##\n",
    "\n",
    "The are three family of standard object defined in the basic set of python\n",
    "- Basic Structure: single type object\n",
    "- iterables collection of object\n",
    "    - -> ordered collection of objects : Sequence\n",
    "    - -> unordered collection of objects :\n",
    "      - ->sets\n",
    "      - ->dictionary"
   ]
  },
  {
   "cell_type": "markdown",
   "id": "c622eda9-9812-45ee-9aac-db3b3ae15d20",
   "metadata": {
    "jp-MarkdownHeadingCollapsed": true
   },
   "source": [
    "# Basic Structures #"
   ]
  },
  {
   "cell_type": "markdown",
   "id": "de79ea76-3e56-4faf-8bb1-f542871eb36d",
   "metadata": {},
   "source": [
    "* “null” type\n",
    "* booleans\n",
    "* numbers (integers, floating-point numbers, and complex numbers)"
   ]
  },
  {
   "cell_type": "markdown",
   "id": "889202a3-86c8-4dc0-90fa-cbdc73873e91",
   "metadata": {
    "jp-MarkdownHeadingCollapsed": true
   },
   "source": [
    "## The None-Type ##\n",
    "***NoneType*** class that has exactly one object: ***None***. None is used to represent the nothing. \n",
    "**None** appears frequently, and is often used as a placeholder in code. It is mainly use to check if an object is None.  \n",
    "Python reserves $is$ as an operation that checks if two objects are identical. This is different than ***==***, which checks if two objects are associated with the same value or state:"
   ]
  },
  {
   "cell_type": "code",
   "execution_count": 25,
   "id": "eded7e64-6bb7-4b99-b575-83a2594cdadd",
   "metadata": {},
   "outputs": [
    {
     "name": "stdout",
     "output_type": "stream",
     "text": [
      "False\n",
      "True\n"
     ]
    }
   ],
   "source": [
    "x = 22\n",
    "y =None\n",
    "print( x is None)\n",
    "print( y is  None)\n"
   ]
  },
  {
   "cell_type": "markdown",
   "id": "e1685566-8047-4070-b555-00aa3a494602",
   "metadata": {
    "jp-MarkdownHeadingCollapsed": true
   },
   "source": [
    "## The Boolean Type ##\n",
    "\n",
    "There are two boolean-type objects: True and False, the class name is **bool**. The results of comparison operation are generally bool.  \n",
    "True and False must be specified with capital letters in Python. These should not be confused with strings; note that there are no quotation marks used here.  \n",
    "$bool$ is a subclass of $int$ (see Numeric Types — int, float, complex). In many numeric contexts, False and True behave like the integers 0 and 1, respectively. However, relying on this is discouraged; explicitly convert using int() instead."
   ]
  },
  {
   "cell_type": "code",
   "execution_count": 1,
   "id": "78b9fbcf-974e-4b8e-beb5-8f2274fae7b2",
   "metadata": {},
   "outputs": [
    {
     "name": "stdout",
     "output_type": "stream",
     "text": [
      "<class 'bool'>\n",
      "True\n"
     ]
    }
   ],
   "source": [
    "print(type(True))\n",
    "print(isinstance(False, bool))"
   ]
  },
  {
   "cell_type": "markdown",
   "id": "5aba6b2a-7fb9-49e2-a160-a6dce93cc046",
   "metadata": {},
   "source": [
    "### Logic Operation ###\n",
    "These are the Boolean operations, ordered by ascending priority:\n",
    "| Logic Operation | Symbolic Operator |\n",
    "|:---------------:|:-----------------:|\n",
    "| and             | &                 |\n",
    "| or              | \\|                |\n",
    "\n",
    "### Comparisons ###\n",
    "There are eight comparison operations in Python. They all have the same priority (which is higher than that of the Boolean operations). Comparisons can be chained arbitrarily; for example, x < y <= z is equivalent to x < y and y <= z, except that y is evaluated only once (but in both cases z is not evaluated at all when x < y is found to be false).\n",
    "| Operation |         Meaning         |\n",
    "|:---------:|:-----------------------:|\n",
    "| <         | strictly less than      |\n",
    "| <=        | less than or equal      |\n",
    "| >         | strictly greater than   |\n",
    "| >=        | greater than or equal   |\n",
    "| ==        | equal                   |\n",
    "| !=        | not equal               |\n",
    "| is        | object identity         |\n",
    "| is not    | negated object identity |"
   ]
  },
  {
   "cell_type": "code",
   "execution_count": 2,
   "id": "c15f8a1a-495c-45c8-a4cb-0200b0b52cce",
   "metadata": {},
   "outputs": [
    {
     "name": "stdout",
     "output_type": "stream",
     "text": [
      "True\n",
      "False\n",
      "False\n"
     ]
    }
   ],
   "source": [
    "# demonstrating boolean-logic operators\n",
    "print(True or False)\n",
    "print(True and False)\n",
    "print(False)"
   ]
  },
  {
   "cell_type": "markdown",
   "id": "be6f906b-8173-4d89-a04e-2e3c942d5fa0",
   "metadata": {},
   "source": [
    "## Number ##"
   ]
  },
  {
   "cell_type": "markdown",
   "id": "2ae640c0-38d0-4aa2-9a89-6b811226cd7d",
   "metadata": {},
   "source": [
    "### Integers ###\n",
    "any “whole” number positive or negative, remember dynamic assignment. Their class is named **int**"
   ]
  },
  {
   "cell_type": "code",
   "execution_count": 4,
   "id": "31cb4656-9fc3-49fe-8f29-e403b4ea202a",
   "metadata": {},
   "outputs": [
    {
     "name": "stdout",
     "output_type": "stream",
     "text": [
      "<class 'int'>\n",
      "False\n",
      "0.6666666666666666\n"
     ]
    }
   ],
   "source": [
    "print(type(245))\n",
    "\n",
    "print(isinstance(1.3, int))\n",
    "\n",
    "# converting a string to an integer\n",
    "a=int(\"10\")\n",
    "\n",
    "# converting a floating-point number to an integer\n",
    "int(1.3)\n",
    "\n",
    "# from python 3 integer are not more conseserved with operation\n",
    "print(2/3)"
   ]
  },
  {
   "cell_type": "markdown",
   "id": "21a33065-45e6-4a15-9bdc-066ceea9fd59",
   "metadata": {},
   "source": [
    "### Floating-Point Numbers ###\n",
    "\n",
    "A “floating-point” number  is a number with a decimal point. Their class is named **float**.  \n",
    "The is expressed in scientific notation 1e-5 and precision of depends on from the number of bit assigned to the float. \n",
    "Generally for most python float use  64-bit precision :  \n",
    "-  1 sign bit\n",
    "-  11 bits exponent\n",
    "- 52 bits mantissa\n"
   ]
  },
  {
   "cell_type": "code",
   "execution_count": 20,
   "id": "56ec9a2f-37c4-4da0-b970-08ed3097f384",
   "metadata": {},
   "outputs": [
    {
     "name": "stdout",
     "output_type": "stream",
     "text": [
      "<class 'float'>\n",
      "<class 'float'>\n",
      "False\n",
      "True\n",
      "10.456\n",
      "-22.0\n",
      "False\n",
      "True\n"
     ]
    }
   ],
   "source": [
    "print(type(-2.1))\n",
    "print(type(3e-5))\n",
    "\n",
    "\n",
    "# the integer 10 is not a float-type object\n",
    "print(isinstance(10, float))\n",
    "\n",
    "\n",
    "# including a decimal makes the number a float\n",
    "print(isinstance(10., float))\n",
    "\n",
    "\n",
    "# converting a string to a floating-point number\n",
    "print(float(\"10.456\"))\n",
    "\n",
    "# converting an integer to a floating-point number\n",
    "print(float(-22))\n",
    "\n",
    "# but attention is numerical mathematic\n",
    "print(0.1 + 0.1 + 0.1 == 0.3)\n",
    "\n",
    "import math\n",
    "print(math.isclose(0.1 + 0.1 + 0.1, 0.3))"
   ]
  },
  {
   "cell_type": "markdown",
   "id": "62a22f1d-bc68-4789-bab2-f00b7f67d066",
   "metadata": {},
   "source": [
    "### Complex Numbers ###\n",
    "\n",
    "Is a number with the form $a+bi$, where **a** and **b** are real-valued numbers, and **i** is defined to be the number that satisfies the relationship $i^2=-1$. Because no real-valued number satisfies this relationship, is called the “imaginary number”. Weirdo electrical engineers use the symbol **j** in place of **i**, which is why Python displays the complex number as ***2+3j***.  \n",
    "Their class is named **complex**.  "
   ]
  },
  {
   "cell_type": "code",
   "execution_count": 23,
   "id": "012d02e0-4e9b-4781-9c65-81fc9c1dc09b",
   "metadata": {},
   "outputs": [
    {
     "name": "stdout",
     "output_type": "stream",
     "text": [
      "(2+3j)\n",
      "(2+3j)\n",
      "(7+3j)\n",
      "(-5+12j)\n"
     ]
    }
   ],
   "source": [
    "# Creating complex numbers\n",
    "a= 2 + 3j\n",
    "print( a)\n",
    "a= complex(2,3)\n",
    "print( a)\n",
    "\n",
    "print( a+5)\n",
    "print( a**2)"
   ]
  },
  {
   "cell_type": "markdown",
   "id": "974baed7-2212-4aff-a09d-8ab113d3dd44",
   "metadata": {
    "jp-MarkdownHeadingCollapsed": true
   },
   "source": [
    "#### Number operation ####"
   ]
  },
  {
   "cell_type": "markdown",
   "id": "4c30ac5f-d1a9-4b35-ab45-bac5a11847f0",
   "metadata": {
    "jp-MarkdownHeadingCollapsed": true
   },
   "source": [
    "|     Opération          |     Résultat                                                                                                    |\n",
    "|------------------------|-----------------------------------------------------------------------------------------------------------------|\n",
    "|     x + y              |     somme de x et y                                                                                             |\n",
    "|     x - y              |     différence de x et y                                                                                        |\n",
    "|     x * y              |     produit de x et y                                                                                           |\n",
    "|     x / y              |     quotient de x et y                                                                                          |\n",
    "|     x // y             |     quotient entier de x et y                                                                                   |\n",
    "|     x % y              |     reste de x / y                                                                                              |\n",
    "|     -x                 |     négatif de x                                                                                                |\n",
    "|     +x                 |     x inchangé                                                                                                  |\n",
    "|     abs(x)             |     valeur absolue de x                                                                                         |\n",
    "|     int(x)             |     x converti en   nombre entier                                                                               |\n",
    "|     float(x)           |     x converti en   nombre à virgule flottante                                                                  |\n",
    "|     complex(re, im)    |     un nombre complexe avec re pour   partie réelle et im pour partie imaginaire. im vaut zéro par   défaut.    |\n",
    "|     c.conjugate()      |     conjugué du nombre complexe c                                                                               |\n",
    "|     divmod(x, y)       |     la paire (x // y, x % y)                                                                                    |\n",
    "|     pow(x, y)          |     x à la   puissance y                                                                                        |\n",
    "|     x ** y             |     x à la   puissance y \n",
    "\n",
    "|  Logical operation |   Résultat           |\n",
    "|--------------------|------------------------------------------|\n",
    "|     x \\| y         |     bitwise or of x and y                |\n",
    "|     x ^ y          |     bitwise exclusive or of x   and y    |\n",
    "|     x & y          |     bitwise and of x and   y             |\n",
    "|     x << n         |     x shifted left by n bits             |\n",
    "|     x >> n         |     x shifted right by n bits            |\n",
    "|     ~x             |     the bits of x inverted               |"
   ]
  },
  {
   "cell_type": "markdown",
   "id": "e0d043e2-bcef-409b-b098-ef50fbe37b98",
   "metadata": {},
   "source": [
    "# Sequences data structure #"
   ]
  },
  {
   "cell_type": "markdown",
   "id": "315d4002-a64c-403c-903f-a23bd45b9836",
   "metadata": {},
   "source": [
    "A sequence is a positionally ordered collection of items. And you can refer to any item in the sequence by using its index number e.g., s[0] and s[1].\n",
    "In Python, the sequence index starts at 0, not 1. So the first element is s[0] and the second element is s[1]. If the sequence s has *n* items, the last item is s[n-1].\n",
    "* Tuple\n",
    "* String\n",
    "* List\n",
    "___\n",
    "Python has the following built-in sequence types: **lists**, bytearrays, **strings**, **tuples**, range, and bytes.  \n",
    "Python classifies sequence types as mutable and immutable. The $mutable$ sequence types are **lists** and bytearrays while the $immutable$ sequence types are **strings**, **tuples**, range, and bytes.\n",
    "\n",
    "A sequence can be $homogeneous$ or $heterogeneous$.  \n",
    "In heterogeneous sequences as **list** and **tuple**,  you can store elements of different types including integer, strings, objects, etc.  \n",
    "In a homogeneous sequence as list, all elements have the same type. **Strings** are homogeneous sequences "
   ]
  },
  {
   "cell_type": "markdown",
   "id": "2cca7f50-549b-4a05-af14-464532723601",
   "metadata": {
    "jp-MarkdownHeadingCollapsed": true
   },
   "source": [
    "## Common Sequence Operations ##"
   ]
  },
  {
   "cell_type": "markdown",
   "id": "6202a86a-05a5-4e2d-842c-fd82c9e41a99",
   "metadata": {},
   "source": [
    "The operations in the following table are supported by most sequence types, both mutable and immutable. \n",
    "This table lists the sequence operations sorted in ascending priority. In the table, *s* and *t* are sequences of the same type, *n*, *i*, *j* and *k* are integers and *x* is an arbitrary object that meets any type and value restrictions imposed by *s*.\n",
    "The **in** and **not in** operations have the same priorities as the comparison operations. The **+** (concatenation) and **\\*** (repetition) operations have the same priority as the corresponding numeric operations.  \n",
    "|        Operation       |                                      Result                                      |\n",
    "|:----------------------:|:--------------------------------------------------------------------------------:|\n",
    "| x in s                 | True if an   item of s is equal to x, else False                                 |\n",
    "| x not in s             | False if an   item of s is equal to x, else True                                 |\n",
    "| s + t                  | the concatenation of s and t                                                     |\n",
    "| s * n or n * s         | equivalent to adding s to itself n times                                         |\n",
    "| s[i]                   | ith item of s, origin 0                                                          |\n",
    "| s[i:j]                 | slice of s from i   to j                                                         |\n",
    "| s[i:j:k]               | slice of s from i   to j with step k                                             |\n",
    "| len(s)                 | length of s                                                                      |\n",
    "| min(s)                 | smallest item of s                                                               |\n",
    "| max(s)                 | largest item of s                                                                |\n",
    "| s.index(x[,   i[, j]]) | index of the first occurrence of x in s (at or after index i and before index j) |\n",
    "| s.count(x)             | total number of occurrences of x in s                                            |"
   ]
  },
  {
   "cell_type": "markdown",
   "id": "9f0375b3-f998-4dfe-b424-9e3296598c1d",
   "metadata": {
    "jp-MarkdownHeadingCollapsed": true
   },
   "source": [
    "## Tuple ##"
   ]
  },
  {
   "cell_type": "markdown",
   "id": "852f4bb0-88be-4ef6-a3b2-8b4fe975fab0",
   "metadata": {},
   "source": [
    "A tuple is a sequence of arbitrary objects (a mix of numbers, strings, lists, other tuples, etc.). \n",
    "Tuples may be constructed in a number of ways:\n",
    "-  Using a pair of parentheses to denote the empty tuple: ()\n",
    "-  Using a trailing comma for a singleton tuple: a, or (a,)\n",
    "-  Separating items with commas: a, b, c or (a, b, c)\n",
    "-  Using the tuple() built-in: tuple() or tuple(iterable)"
   ]
  },
  {
   "cell_type": "code",
   "execution_count": 5,
   "id": "a020c170-2fc8-4ecf-9d18-b40062367f02",
   "metadata": {},
   "outputs": [
    {
     "name": "stdout",
     "output_type": "stream",
     "text": [
      "<class 'tuple'>\n",
      "True\n",
      "<class 'tuple'>\n",
      "<class 'tuple'>\n"
     ]
    },
    {
     "ename": "TypeError",
     "evalue": "'tuple' object does not support item assignment",
     "output_type": "error",
     "traceback": [
      "\u001b[1;31m---------------------------------------------------------------------------\u001b[0m",
      "\u001b[1;31mTypeError\u001b[0m                                 Traceback (most recent call last)",
      "Cell \u001b[1;32mIn[5], line 21\u001b[0m\n\u001b[0;32m     19\u001b[0m \u001b[38;5;66;03m# the contents of a tuple cannot be changed: it is \"immutable\"\u001b[39;00m\n\u001b[0;32m     20\u001b[0m y \u001b[38;5;241m=\u001b[39m (\u001b[38;5;241m1\u001b[39m, \u001b[38;5;124m\"\u001b[39m\u001b[38;5;124mmoo\u001b[39m\u001b[38;5;124m\"\u001b[39m, \u001b[38;5;28;01mNone\u001b[39;00m)  \u001b[38;5;66;03m# (a, b, ...) creates a tuple\u001b[39;00m\n\u001b[1;32m---> 21\u001b[0m \u001b[43my\u001b[49m\u001b[43m[\u001b[49m\u001b[38;5;241;43m0\u001b[39;49m\u001b[43m]\u001b[49m \u001b[38;5;241m=\u001b[39m \u001b[38;5;241m2\u001b[39m\n",
      "\u001b[1;31mTypeError\u001b[0m: 'tuple' object does not support item assignment"
     ]
    }
   ],
   "source": [
    "# creating a tuple\n",
    "x = (1, \"a\", 2)  # tuple with 3 entries\n",
    "\n",
    "# (3) does not make a tuple with one entry\n",
    "# you must provide a trailing comma in this\n",
    "# instance\n",
    "y = 3, 4        # a tuple with 1 entry\n",
    "\n",
    "#single element tuple\n",
    "x1= (1,)\n",
    "y1= 2,\n",
    "\n",
    "print(type(x))\n",
    "print(isinstance(y, tuple))\n",
    "print(type(x1))\n",
    "print(type(y1))\n",
    "\n",
    "\n",
    "# the contents of a tuple cannot be changed: it is \"immutable\"\n",
    "y = (1, \"moo\", None)  # (a, b, ...) creates a tuple\n",
    "y[0] = 2"
   ]
  },
  {
   "cell_type": "markdown",
   "id": "41bc3408-7957-4d0a-a9a9-eddded509fa5",
   "metadata": {
    "jp-MarkdownHeadingCollapsed": true
   },
   "source": [
    "## Text Sequence Type — str ##"
   ]
  },
  {
   "cell_type": "markdown",
   "id": "455140a7-aab5-4d06-834e-6b5e2e0ea031",
   "metadata": {},
   "source": [
    "Textual data in Python is handled with str objects, or strings. Strings are immutable sequences of Unicode code points. String literals are written in a variety of ways:\n",
    "- Single quotes: 'allows embedded \"double\" quotes'\n",
    "- Double quotes: \"allows embedded 'single' quotes\"\n",
    "- Triple quoted: '''Three single quotes''', \"\"\"Three double quotes\"\"\"  for multople line strings\n",
    "In a string, \\n is treated as a single character. It denotes a new-line in a string, and will be rendered thusly when the string is printed. Similarly, \\t will render as a tab-character.\n",
    "\n",
    "Python’s strings have a large number of built-in functions available to them. It is very important that you familiarize yourself with these functions by looking over the official documentation. To demonstrate a few of these:"
   ]
  },
  {
   "cell_type": "markdown",
   "id": "7902135e-f275-46e1-a705-7445b47607f0",
   "metadata": {},
   "source": [
    "|     Method     |                                             Description                                            |\n",
    "|:--------------:|:--------------------------------------------------------------------------------------------------:|\n",
    "| capitalize()   | Converts the first      character to upper case                                                    |\n",
    "| casefold()     | Converts string into      lower case                                                               |\n",
    "| center()       | Returns a centered      string                                                                     |\n",
    "| count()        | Returns the number of      times a specified value occurs in a string                              |\n",
    "| encode()       | Returns an encoded      version of the string                                                      |\n",
    "| endswith()     | Returns true if the      string ends with the specified value                                      |\n",
    "| expandtabs()   | Sets the      tab size of the string                                                               |\n",
    "| find()         | Searches the string for a      specified value and returns the position of where it was found      |\n",
    "| format()       | Formats specified      values in a string                                                          |\n",
    "| format_map()   | Formats specified      values in a string                                                          |\n",
    "| index()        | Searches the string      for a specified value and returns the position of where it was found      |\n",
    "| isalnum()      | Returns True if all      characters in the string are alphanumeric                                 |\n",
    "| isalpha()      | Returns True if all      characters in the string are in the alphabet                              |\n",
    "| isascii()      | Returns True if all      characters in the string are ascii characters                             |\n",
    "| isdecimal()    | Returns True if all      characters in the string are decimals                                     |\n",
    "| isdigit()      | Returns True if all      characters in the string are digits                                       |\n",
    "| isidentifier() | Returns True if      the string is an identifier                                                   |\n",
    "| islower()      | Returns True if all      characters in the string are lower case                                   |\n",
    "| isnumeric()    | Returns True if      all characters in the string are numeric                                      |\n",
    "| isprintable()  | Returns True if      all characters in the string are printable                                    |\n",
    "| isspace()      | Returns True if all      characters in the string are whitespaces                                  |\n",
    "| istitle()      | Returns True if the string follows the rules of a      title                                       |\n",
    "| isupper()      | Returns True if all      characters in the string are upper case                                   |\n",
    "| join()         | Converts the elements of      an iterable into a string                                            |\n",
    "| ljust()        | Returns a left justified      version of the string                                                |\n",
    "| lower()        | Converts a string into      lower case                                                             |\n",
    "| lstrip()       | Returns a left trim      version of the string                                                     |\n",
    "| maketrans()    | Returns a      translation table to be used in translations                                        |\n",
    "| partition()    | Returns a tuple      where the string is parted into three parts                                   |\n",
    "| replace()      | Returns a string      where a specified value is replaced with a specified value                   |\n",
    "| rfind()        | Searches the string for      a specified value and returns the last position of where it was found |\n",
    "| rindex()       | Searches the string for      a specified value and returns the last position of where it was found |\n",
    "| rjust()        | Returns a right justified      version of the string                                               |\n",
    "| rpartition()   | Returns a tuple      where the string is parted into three parts                                   |\n",
    "| rsplit()       | Splits the string at      the specified separator, and returns a list                              |\n",
    "| rstrip()       | Returns a right trim      version of the string                                                    |\n",
    "| split()        | Splits the string at      the specified separator, and returns a list                              |\n",
    "| splitlines()   | Splits the string      at line breaks and returns a list                                           |\n",
    "| startswith()   | Returns true if      the string starts with the specified value                                    |\n",
    "| strip()        | Returns a trimmed version of the string                                                            |\n",
    "| swapcase()     | Swaps cases, lower      case becomes upper case and vice versa                                     |\n",
    "| title()        | Converts the first      character of each word to upper case                                       |\n",
    "| translate()    | Returns a      translated string                                                                   |\n",
    "| upper()        | Converts a string      into upper case                                                             |\n",
    "| zfill()        | Fills the string with    a specified number of 0 values at the beginning                           |"
   ]
  },
  {
   "cell_type": "code",
   "execution_count": 11,
   "id": "7c8735dd-e39e-482b-abe6-676058c4687b",
   "metadata": {},
   "outputs": [
    {
     "name": "stdout",
     "output_type": "stream",
     "text": [
      "<class 'str'>\n",
      "11\n",
      "w[6:11]   World\n",
      "w[6:]     World\n",
      "w[:5]     Hello\n",
      "---\n",
      "\n",
      "str_a + str_b   I love Python! You too!\n",
      "Hello Berkeley\n"
     ]
    }
   ],
   "source": [
    "# few operation to familiarize\n",
    "s = \"S\"\n",
    "w = \"Hello World\"\n",
    "print(type(w))\n",
    "print(len(w))\n",
    "print('w[6:11]  ',  w[6:11])\n",
    "print('w[6:]    ',  w[6:])\n",
    "print('w[:5]    ',  w[:5])\n",
    "\n",
    "print('---\\n')\n",
    "str_a = \"I love Python! \"\n",
    "str_b = \"You too!\"\n",
    "print('str_a + str_b  ',str_a + str_b)\n",
    "print(w.replace(\"World\", \"Berkeley\"))"
   ]
  },
  {
   "cell_type": "code",
   "execution_count": 6,
   "id": "180eee2e-b510-4b3e-b56c-39f75138e1d0",
   "metadata": {},
   "outputs": [
    {
     "ename": "TypeError",
     "evalue": "can only concatenate str (not \"int\") to str",
     "output_type": "error",
     "traceback": [
      "\u001b[1;31m---------------------------------------------------------------------------\u001b[0m",
      "\u001b[1;31mTypeError\u001b[0m                                 Traceback (most recent call last)",
      "Cell \u001b[1;32mIn[6], line 3\u001b[0m\n\u001b[0;32m      1\u001b[0m \u001b[38;5;66;03m# attention to don't mix different type #\u001b[39;00m\n\u001b[0;32m      2\u001b[0m x \u001b[38;5;241m=\u001b[39m \u001b[38;5;241m1\u001b[39m\n\u001b[1;32m----> 3\u001b[0m \u001b[38;5;28mprint\u001b[39m(\u001b[38;5;124;43m\"\u001b[39;49m\u001b[38;5;124;43mx = \u001b[39;49m\u001b[38;5;124;43m\"\u001b[39;49m\u001b[43m \u001b[49m\u001b[38;5;241;43m+\u001b[39;49m\u001b[43m \u001b[49m\u001b[43mx\u001b[49m)\n",
      "\u001b[1;31mTypeError\u001b[0m: can only concatenate str (not \"int\") to str"
     ]
    }
   ],
   "source": [
    "# attention to don't mix different type #\n",
    "x = 1\n",
    "print(\"x = \" + x)"
   ]
  },
  {
   "cell_type": "markdown",
   "id": "f9b1ada4-4b05-49ad-9964-7f68f79a5a28",
   "metadata": {},
   "source": [
    "### Formatting strings ###\n",
    "\n",
    "Python provides multiple syntaxes for formatting strings; allowing to use the values of variables into strings, align fields using whitespace, and control the number of decimal places with which numbers are displayed in a string. \n",
    "\n",
    "In Python 3, you can leverage the format method towards this end:  "
   ]
  },
  {
   "cell_type": "code",
   "execution_count": 14,
   "id": "6a3f0147-0179-4771-9b8f-71b806b103da",
   "metadata": {},
   "outputs": [
    {
     "data": {
      "text/plain": [
       "'Bruce is 80 years old'"
      ]
     },
     "execution_count": 14,
     "metadata": {},
     "output_type": "execute_result"
    }
   ],
   "source": [
    "# using `format` to replace placeholders with values\n",
    "\"{name} is {age} years old\".format(name=\"Bruce\", age=80)  "
   ]
  },
  {
   "cell_type": "code",
   "execution_count": 15,
   "id": "5c9d9631-c757-4348-940c-d6a4eccbede0",
   "metadata": {},
   "outputs": [
    {
     "data": {
      "text/plain": [
       "'    stew'"
      ]
     },
     "execution_count": 15,
     "metadata": {},
     "output_type": "execute_result"
    }
   ],
   "source": [
    "#padding a string with leading-spaces so that it has at least 8 characters\n",
    "\"{item:>8}\".format(item=\"stew\")  "
   ]
  },
  {
   "cell_type": "markdown",
   "id": "d1dfb417-db6a-4804-9e01-d9687223d527",
   "metadata": {},
   "source": [
    "For Python 3.6 or beyond, thenthere is the luxury of f-strings. allowing to add values directly in the string\n",
    "an example of an 'f-string'"
   ]
  },
  {
   "cell_type": "code",
   "execution_count": 16,
   "id": "c53b5bdb-9540-4d6b-aba3-06757dc92f26",
   "metadata": {},
   "outputs": [
    {
     "data": {
      "text/plain": [
       "'Batman has 12 apples. Catwoman has 10 apples. Together, they have 22 apples'"
      ]
     },
     "execution_count": 16,
     "metadata": {},
     "output_type": "execute_result"
    }
   ],
   "source": [
    "batman = 12  \n",
    "catwoman = 10  \n",
    "f\"Batman has {batman} apples. Catwoman has {catwoman} apples. Together, they have {batman + catwoman} apples\"  "
   ]
  },
  {
   "cell_type": "markdown",
   "id": "947c0708-12df-48cc-b1d9-d24c322ac2cf",
   "metadata": {
    "jp-MarkdownHeadingCollapsed": true
   },
   "source": [
    "#### Formating table for int"
   ]
  },
  {
   "cell_type": "markdown",
   "id": "c8521fd8-ac20-47a3-b69f-035faf4c61dd",
   "metadata": {
    "jp-MarkdownHeadingCollapsed": true
   },
   "source": [
    "| 'b'  | Binary format. Outputs the number in base 2.                                                                                                                               |\n",
    "|------|----------------------------------------------------------------------------------------------------------------------------------------------------------------------------|\n",
    "| 'c'  | Character. Converts the integer to the corresponding unicode character before printing.                                                                                    |\n",
    "| 'd'  | Decimal Integer. Outputs the number in base 10.                                                                                                                            |\n",
    "| 'o'  | Octal format. Outputs the number in base 8.                                                                                                                                |\n",
    "| 'x'  | Hex format. Outputs the number in base 16, using lower-case letters for the digits above 9.                                                                                |\n",
    "| 'X'  | Hex format. Outputs the number in base 16, using upper-case letters for the digits above 9. In case '#' is specified, the prefix '0x' will be upper-cased to '0X' as well. |\n",
    "| 'n'  | Number. This is the same as 'd', except that it uses the current locale setting to insert the appropriate number separator characters.                                     |\n",
    "| None | The same as 'd'.                                                                                                                                                           |"
   ]
  },
  {
   "cell_type": "markdown",
   "id": "e4fbddf1-26d2-4a7c-9b18-4da622fff4e9",
   "metadata": {
    "jp-MarkdownHeadingCollapsed": true
   },
   "source": [
    "#### Formating table for float"
   ]
  },
  {
   "cell_type": "markdown",
   "id": "0e753130-128f-42bc-a69b-2cbbdb822472",
   "metadata": {
    "jp-MarkdownHeadingCollapsed": true
   },
   "source": [
    "| Type |                                                                                                                                                                                                                                                                                                                                                                                                                                                                                                                                                                                                                                                                                                      Meaning                                                                                                                                                                                                                                                                                                                                                                                                                                                                                                                                                                                                                                                                                                     |\n",
    "|:----:|:----------------------------------------------------------------------------------------------------------------------------------------------------------------------------------------------------------------------------------------------------------------------------------------------------------------------------------------------------------------------------------------------------------------------------------------------------------------------------------------------------------------------------------------------------------------------------------------------------------------------------------------------------------------------------------------------------------------------------------------------------------------------------------------------------------------------------------------------------------------------------------------------------------------------------------------------------------------------------------------------------------------------------------------------------------------------------------------------------------------------------------------------------------------------------------------------------------------------------------------------------------------------------------------------------------------------------------------------------------------------------------------------------------------:|\n",
    "| 'e'  | Scientific notation. For a given precision p, formats the number in scientific notation with the letter ‘e’ separating the coefficient from the exponent. The coefficient has one digit before and p digits after the decimal point, for a total of p + 1 significant digits. With no precision given, uses a precision of 6 digits after the decimal point for float, and shows all coefficient digits for Decimal. If no digits follow the decimal point, the decimal point is also removed unless the # option is used.                                                                                                                                                                                                                                                                                                                                                                                                                                                                                                                                                                                                                                                                                                                                                                                                                                                                                       |\n",
    "| 'E'  | Scientific notation. Same as 'e' except it uses an upper case ‘E’ as the separator character.                                                                                                                                                                                                                                                                                                                                                                                                                                                                                                                                                                                                                                                                                                                                                                                                                                                                                                                                                                                                                                                                                                                                                                                                                                                                                                                    |\n",
    "| 'f'  | Fixed-point notation. For a given precision p, formats the number as a decimal number with exactly p digits following the decimal point. With no precision given, uses a precision of 6 digits after the decimal point for float, and uses a precision large enough to show all coefficient digits for Decimal. If no digits follow the decimal point, the decimal point is also removed unless the # option is used.                                                                                                                                                                                                                                                                                                                                                                                                                                                                                                                                                                                                                                                                                                                                                                                                                                                                                                                                                                                            |\n",
    "| 'F'  | Fixed-point notation. Same as 'f', but converts nan to  NAN and inf to INF.                                                                                                                                                                                                                                                                                                                                                                                                                                                                                                                                                                                                                                                                                                                                                                                                                                                                                                                                                                                                                                                                                                                                                                                                                                                                                                                                      |\n",
    "| 'g'  | General format.  For a given precision p >= 1, this rounds the number to p significant digits and then formats the result in either fixed-point format or in scientific notation, depending on its magnitude. A precision of 0 is treated as equivalent to a precision of 1.   The precise rules are as follows: suppose that the result formatted with presentation type 'e' and precision p-1 would have exponent exp.  Then, if m <= exp < p, where m is -4 for floats and -6 for Decimals, the number is formatted with presentation type 'f' and precision p-1-exp.  Otherwise, the number is formatted with presentation type 'e' and precision p-1. In both cases insignificant trailing zeros are removed from the significand, and the decimal point is also removed if there are no remaining digits following it, unless the '#' option is used.   With no precision given, uses a precision of 6 significant digits for float. For Decimal, the coefficient of the result is formed from the coefficient digits of the value; scientific notation is used for values smaller than 1e-6 in absolute value and values where the place value of the least significant digit is larger than 1, and fixed-point notation is used otherwise.   Positive and negative infinity, positive and negative zero, and nans, are formatted as inf, -inf, 0, -0 and nan respectively, regardless of the precision.  |\n",
    "| 'G'  | General format. Same as 'g' except switches to 'E' if the number gets too large. The representations of infinity and NaN are uppercased, too.                                                                                                                                                                                                                                                                                                                                                                                                                                                                                                                                                                                                                                                                                                                                                                                                                                                                                                                                                                                                                                                                                                                                                                                                                                                                    |\n",
    "| 'n'  | Number. This is the same as 'g', except that it uses the current locale setting to insert the appropriate number separator characters.                                                                                                                                                                                                                                                                                                                                                                                                                                                                                                                                                                                                                                                                                                                                                                                                                                                                                                                                                                                                                                                                                                                                                                                                                                                                           |\n",
    "| '%'  | Percentage. Multiplies the number by 100 and displays in fixed ('f') format, followed by a percent sign.                                                                                                                                                                                                                                                                                                                                                                                                                                                                                                                                                                                                                                                                                                                                                                                                                                                                                                                                                                                                                                                                                                                                                                                                                                                                                                         |\n",
    "| None | For float this is the same as 'g', except that when fixed-point notation is used to format the result, it always includes at least one digit past the decimal point. The precision used is as large as needed to represent the given value faithfully.   For Decimal, this is the same as either 'g' or 'G' depending on the value of context.capitals for the current decimal context.   The overall effect is to match the output of str() as altered by the other format modifiers.                                                                                                                                                                                                                                                                                                                                                                                                                                                                                                                                                                                                                                                                                                                                                                                                                                                                                                                           |"
   ]
  },
  {
   "cell_type": "markdown",
   "id": "3c9b7c99-f0c8-4ae7-bee0-07f57fa0d3dc",
   "metadata": {
    "jp-MarkdownHeadingCollapsed": true
   },
   "source": [
    "## Lists ##"
   ]
  },
  {
   "cell_type": "markdown",
   "id": "77056adc-6289-483d-85a4-22c30bd29636",
   "metadata": {},
   "source": [
    "Lists are mutable sequences, typically used to store collections of items.\n",
    "Lists may be constructed in several ways:\n",
    "\n",
    "    Using a pair of square brackets to denote the empty list: []\n",
    "    Using square brackets, separating items with commas: [a], [a, b, c]\n",
    "    Using a list comprehension: [x for x in iterable]\n",
    "    Using the type constructor: list() or list(iterable)"
   ]
  },
  {
   "cell_type": "markdown",
   "id": "6dba5852-71fe-41ce-90d4-7167d48068de",
   "metadata": {},
   "source": [
    "```python\n",
    "# a list-type object stores a sequence of other objects\n",
    ">>> [3.5, None, 3.5, True, \"hello\"]\n",
    "[3.5, None, 3.5, True, 'hello']\n",
    "\n",
    ">>> type([1, 2, 3])\n",
    "list\n",
    "\n",
    ">>> isinstance([1, 2], list)\n",
    "True\n",
    "\n",
    "# constructing an empty list\n",
    ">>> []\n",
    "[]\n",
    "\n",
    "# constructing a list with only one member\n",
    ">>> [\"hello\"]\n",
    "[\"hello\"]\n",
    "```"
   ]
  },
  {
   "cell_type": "markdown",
   "id": "1cb3fc45-dd9b-4e4f-9da0-2cbdfdf094d8",
   "metadata": {},
   "source": [
    "Lisinclude variables, equations, and other Python expressions in the list constructor; Python will simplify these expressions and construct the list with the resulting objects.\n",
    "\n",
    "```python\n",
    "# the list constructor will simplify expressions\n",
    "# and store their resulting objects\n",
    ">>> x = \"hello\"\n",
    ">>> [2 < 3, x.capitalize(), 5**2, [1, 2]]\n",
    "[True, 'Hello', 25, [1, 2]]\n",
    "```"
   ]
  },
  {
   "cell_type": "markdown",
   "id": "5fba60d2-397c-4dfd-bd03-348ba0d4d510",
   "metadata": {},
   "source": [
    "### Mutable Sequence Types Operations (*list*) ###\n",
    "In the table *s* is an instance of a mutable sequence type, *t* is any iterable object and *x* is an arbitrary object that meets any type and \n",
    "value restrictions imposed by *s* (for example, bytearray only accepts integers that meet the value restriction 0 <= x <= 255).\n",
    "\n",
    "*sort method is reserved to list\n",
    "\n",
    "|       Operation       |                                          Result                                         |\n",
    "|:---------------------:|:---------------------------------------------------------------------------------------:|\n",
    "| s[i] = x              | item i of s is   replaced by x                                                          |\n",
    "| s[i:j] =   t          | slice of s from i   to j is replaced by the   contents of the iterable t                |\n",
    "| del s[i:j]            | same as s[i:j]   = []                                                                   |\n",
    "| s[i:j:k] =   t        | the elements of s[i:j:k] are replaced by those of t                                     |\n",
    "| del   s[i:j:k]        | removes the elements of s[i:j:k] from the list                                          |\n",
    "| s.append(x)           | appends x to the end of the sequence (same as s[len(s):len(s)]   = [x])                 |\n",
    "| s.clear()             | removes all items from s (same as del   s[:])                                           |\n",
    "| s.copy()              | creates a shallow copy of s (same as s[:])                                              |\n",
    "| s.extend(t) or s += t | extends s with the contents of t (for the most part the same as s[len(s):len(s)]   = t) |\n",
    "| s *= n                | updates s with its contents repeated n times                                            |\n",
    "| s.insert(i,   x)      | inserts x into s   at the index given by i   (same as s[i:i] = [x])                     |\n",
    "| s.pop() or s.pop(i)   | retrieves the item at i and also removes it from s                                      |\n",
    "| s.remove(x)           | remove the first item from s where s[i] is equal to x                                   |\n",
    "| s.reverse()           | reverses the items of s in place                                                        |\n",
    "| s.sort(key=None, reverse=False) |   sorts the list in place                                                                                      |\n",
    "    "
   ]
  },
  {
   "cell_type": "markdown",
   "id": "89e76562-5a0c-46c6-94e7-60f541389b9f",
   "metadata": {
    "jp-MarkdownHeadingCollapsed": true
   },
   "source": [
    "# Set Types — set, frozenset #"
   ]
  },
  {
   "cell_type": "markdown",
   "id": "8fa6195e-d728-4629-a835-49450ec3302d",
   "metadata": {
    "jp-MarkdownHeadingCollapsed": true
   },
   "source": [
    "A set object is an unordered collection of distinct $heterogenus$ objects. \n",
    "Common uses include membership testing, removing duplicates from a sequence, and computing mathematical operations such as intersection, union, difference, and symmetric difference.  \n",
    "Like other collections, sets support x in set, len(set), and for x in set.  \n",
    "Being an unordered collection, sets do not record element position or order of insertion. Accordingly, sets do not support indexing, slicing, or other sequence-like behavior.\n",
    "\n",
    "There are currently two built-in set types, ***set*** and ***frozenset***. The set type is mutable, frozenset type is immutable\n",
    "\n",
    "The constructors for both classes work the same:\n",
    "\n",
    "   - Use a comma-separated list of elements within braces: {'jack', 'sjoerd'}\n",
    "   - Use a set comprehension: {c for c in 'abracadabra' if c not in 'abc'}\n",
    "   - Use the type constructor: set(), set('foobar'), set(['a', 'b', 'foo'])"
   ]
  },
  {
   "cell_type": "markdown",
   "id": "8f508ebf-403d-446a-b2b7-91abec748d08",
   "metadata": {},
   "source": [
    "## set,frozenset operations ##"
   ]
  },
  {
   "cell_type": "markdown",
   "id": "b001be93-0983-4e8c-b2d5-171c884f3843",
   "metadata": {},
   "source": [
    "|         Operation         | Equivalent |                        Result                       |\n",
    "|:-------------------------:|:----------:|:---------------------------------------------------:|\n",
    "| len(s)                    |            | number of elements in set s (cardinality)           |\n",
    "| x in s                    |            | test x for membership in s                          |\n",
    "| x not in s                |            | test x for non-membership in s                      |\n",
    "| s.issubset(t)             | s <= t     | test whether every element in s is in t             |\n",
    "| s.issuperset(t)           | s >= t     | test whether every element in t is in s             |\n",
    "| s.union(t)                | s \\| t     | new set with elements from both s and t             |\n",
    "| s.intersection(t)         | s & t      | new set with elements common to s and t             |\n",
    "| s.difference(t)           | s - t      | new set with elements in s but not in t             |\n",
    "| s.symmetric_difference(t) | s ^ t      | new set with elements in either s or t but not both |\n",
    "| s.copy()                  |            | new set with a shallow copy of s                    |"
   ]
  },
  {
   "cell_type": "markdown",
   "id": "87b99325-f0a7-4379-b676-952e8b4081e9",
   "metadata": {},
   "source": [
    "## set operation ##"
   ]
  },
  {
   "cell_type": "markdown",
   "id": "9b71288c-231d-40e6-a621-03f0110b3da6",
   "metadata": {},
   "source": [
    "|             Operation            | Equivalent |                                  Result                                 |\n",
    "|:--------------------------------:|:----------:|:-----------------------------------------------------------------------:|\n",
    "| s.update(t)                      | s \\|= t    | return set s with elements added from t                                 |\n",
    "| s.intersection_update(t)         | s &= t     | return set s keeping only elements also found in t                      |\n",
    "| s.difference_update(t)           | s -= t     | return set s after removing elements found in t                         |\n",
    "| s.symmetric_difference_update(t) | s ^= t     | return set s with elements from s or t but not both                     |\n",
    "| s.add(x)                         |            | add element x to set s                                                  |\n",
    "| s.remove(x)                      |            | remove x from set s; raises KeyError if not present                     |\n",
    "| s.discard(x)                     |            | removes x from set s if present                                         |\n",
    "| s.pop()                          |            | remove and return an arbitrary element from s; raises KeyError if empty |\n",
    "| s.clear()                        |            | remove all elements from set s                                          |"
   ]
  },
  {
   "cell_type": "code",
   "execution_count": 19,
   "id": "f8fb3666-33b5-4e3b-9131-a2235d7b7cb6",
   "metadata": {},
   "outputs": [
    {
     "data": {
      "text/plain": [
       "{1, 2, 3}"
      ]
     },
     "execution_count": 19,
     "metadata": {},
     "output_type": "execute_result"
    }
   ],
   "source": [
    "set_1 = set([1, 2, 2, 3, 2, 1, 2])\n",
    "set_1"
   ]
  },
  {
   "cell_type": "code",
   "execution_count": 20,
   "id": "a6b68185-f42b-4817-9356-045fc5abf605",
   "metadata": {},
   "outputs": [
    {
     "data": {
      "text/plain": [
       "{1, 2, 3, 4, 5, 6}"
      ]
     },
     "execution_count": 20,
     "metadata": {},
     "output_type": "execute_result"
    }
   ],
   "source": [
    "set_2 = set((2, 4, 6, 5, 2))\n",
    "set_1.union(set_2)"
   ]
  },
  {
   "cell_type": "markdown",
   "id": "255c6c57-8520-41a6-9392-58a4662af059",
   "metadata": {},
   "source": [
    "```python\n",
    "# demonstrating set-comparison operations\n",
    ">>> x = {\"a\", \"b\", \"c\", \"d\"}\n",
    ">>> y = {\"a\", \"b\", \"e\"}\n",
    "\n",
    "# union: items in x or y, or both\n",
    ">>> x | y  # or x.union(y)\n",
    "{'a', 'b', 'c', 'd', 'e'}\n",
    "\n",
    "# intersection: items in both x and y\n",
    ">>> x & y  # or x.intersection(y)\n",
    "{'a', 'b'}\n",
    "\n",
    "# difference: items in x but not in y\n",
    ">>> x - y  # or x.difference(y)\n",
    "{'c', 'd'}\n",
    "\n",
    "# symmetric difference: in x or y, but not in both\n",
    ">>> x ^ y  # or x.symmetric_difference\n",
    "{'c', 'd', 'e'}\n",
    "\n",
    "# check if set_1 is a superset of set_2\n",
    ">>> {1, 2, 3, 4} >= {1, 2}\n",
    "True\n",
    "\n",
    "# check if set_1 and set_2 are equivalent sets\n",
    ">>> {1, 2, 3, 4} == {1, 2}\n",
    "False\n",
    "```"
   ]
  },
  {
   "cell_type": "markdown",
   "id": "4003a04d-7867-4134-808e-eb8e94e2cfc3",
   "metadata": {
    "jp-MarkdownHeadingCollapsed": true
   },
   "source": [
    "# Mapping Types — dict #"
   ]
  },
  {
   "cell_type": "markdown",
   "id": "7c28c25b-6185-48b1-81ce-004f4d00048e",
   "metadata": {
    "jp-MarkdownHeadingCollapsed": true
   },
   "source": [
    "A mapping object maps hashable values (immutable object) to arbitrary objects. There is currently only one standard mapping type, the dictionary (**dict** class). dict are mutable\n",
    "\n",
    "Dictionaries can be created by several means:\n",
    "   - Use a comma-separated list of key: value pairs within braces: {'jack': 4098, 'sjoerd': 4127} or {4098: 'jack', 4127: 'sjoerd'}\n",
    "   - Use a dict comprehension: {}, {x: x ** 2 for x in range(10)}\n",
    "   - Use the type constructor: dict(), dict([('foo', 100), ('bar', 200)]), dict(foo=100, bar=200)"
   ]
  },
  {
   "cell_type": "code",
   "execution_count": 21,
   "id": "d633cdfc-d545-440f-8dbd-4b9d98b993b0",
   "metadata": {},
   "outputs": [
    {
     "data": {
      "text/plain": [
       "True"
      ]
     },
     "execution_count": 21,
     "metadata": {},
     "output_type": "execute_result"
    }
   ],
   "source": [
    "a = dict(one=1, two=2, three=3)\n",
    "b = {'one': 1, 'two': 2, 'three': 3}\n",
    "c = dict(zip(['one', 'two', 'three'], [1, 2, 3]))\n",
    "d = dict([('two', 2), ('one', 1), ('three', 3)])\n",
    "e = dict({'three': 3, 'one': 1, 'two': 2})\n",
    "f = dict({'one': 1, 'three': 3}, two=2)\n",
    "a == b == c == d == e == f"
   ]
  },
  {
   "cell_type": "markdown",
   "id": "3cb9e287-6c3c-4e38-bc1f-b6ea1a3c4591",
   "metadata": {},
   "source": [
    "Let’s create the following grocery-to-price:\n",
    "\n",
    "    “cheese” ->2.53,\n",
    "    “milk”   ->3.40,\n",
    "    “frozen pizza” ->    8.01\n",
    "```python\n",
    "# use a dictionary to map groceries to prices: item-name -> price\n",
    ">>> items_to_prices = {\"cheese\": 2.53, \"milk\": 3.40, \"frozen pizza\": 8.01}\n",
    "\n",
    "# looking up the price of \"frozen pizza\"\n",
    ">>> items_to_prices[\"frozen pizza\"]\n",
    "8.01\n",
    "```\n",
    "Python’s dictionary is a shining star among its data structures; it is compact, fast, versatile, and extremely useful. It can be used to create a wide variety of mappings.\n",
    "```python\n",
    "# keep track of whether or not a 3D coordinate fell into some region in space\n",
    "# map (x, y, z) coordinates to \"is in a region\": (x, y, z) -> True/False\n",
    ">>> point_to_region = {(0.1, 2.2, 3):False, (-10., 0, 4.5):True, (4.3, 1.0, 9.5):False}\n",
    ">>> point_to_region[(-10., 0, 4.5)]\n",
    "True\n",
    "```\n"
   ]
  },
  {
   "cell_type": "markdown",
   "id": "33d5c55a-cf27-4bfa-9644-9b7ef539a9fe",
   "metadata": {},
   "source": [
    "## Dictionary methods ##"
   ]
  },
  {
   "cell_type": "markdown",
   "id": "193144c8-f31c-4a90-8514-3570f15e2654",
   "metadata": {
    "jp-MarkdownHeadingCollapsed": true
   },
   "source": [
    "\n",
    "|        Method        |                                                  Description                                                  |\n",
    "|:--------------------:|:-------------------------------------------------------------------------------------------------------------:|\n",
    "| **Nonmutating methods**  |                                                                                                               |\n",
    "| D.copy( )            | Returns a shallow copy of the dictionary (a copy whose items are the same objects as D’s, not copies thereof) |\n",
    "| D.has_key(k)         | Returns True if k is a key in D; otherwise, returns False, just like k in D                                   |\n",
    "| D.items( )           | Returns a new list with all items (key/value pairs) in D                                                      |\n",
    "| D.keys( )            | Returns a new list with all keys in D                                                                         |\n",
    "| D.values( )          | Returns a new list with all values in D                                                                       |\n",
    "| D.iteritems( )       | Returns an iterator on all items (key/value pairs) in D                                                       |\n",
    "| D.iterkeys( )        | Returns an iterator on all keys in D                                                                          |\n",
    "| D.itervalues( )      | Returns an iterator on all values in D                                                                        |\n",
    "| D.get(k[, x])        | Returns D[k] if k is a key in D; otherwise, returns x (or None, if x is not given)                            |\n",
    "| Mutating methods     |                                                                                                               |\n",
    "| D.clear( )           | Removes all items from D, leaving D empty                                                                     |\n",
    "| D.update(D1)         | For each k in D1, sets D[k] equal to D1[k]                                                                    |\n",
    "| D.setdefault(k[, x]) | Returns D[k] if k is a key in D; otherwise, sets D[k] equal to x and returns x                                |\n",
    "| D.pop(k[, x])        | Removes and returns D[k] if k is a key in D; otherwise, returns x (or raises an exception if x is not given)  |\n",
    "| D.popitem( )         | Removes and returns an arbitrary item (key/value pair)                                                        |\n",
    "| **Mutating methods**     |                                                                                                              |\n",
    "| D.clear( )           | Removes all items from D, leaving D empty                                                                    |\n",
    "| D.update(D1)         | For each k in D1, sets D[k] equal to D1[k]                                                                   |\n",
    "| D.setdefault(k[, x]) | Returns D[k] if k is a key in D; otherwise, sets D[k] equal to x and returns x                               |\n",
    "| D.pop(k[, x])        | Removes and returns D[k] if k is a key in D; otherwise, returns x (or raises an exception if x is not given) |\n",
    "| D.popitem( )         | Removes and returns an arbitrary item (key/value pair)                                                       |"
   ]
  },
  {
   "cell_type": "code",
   "execution_count": null,
   "id": "47feeaf6-c194-4693-85f7-98638c46baec",
   "metadata": {},
   "outputs": [],
   "source": []
  },
  {
   "cell_type": "code",
   "execution_count": null,
   "id": "6804cbf2-05fc-4c34-a576-68e0b4427052",
   "metadata": {},
   "outputs": [],
   "source": []
  },
  {
   "cell_type": "code",
   "execution_count": null,
   "id": "2d14aa58-2f17-49cc-b3d8-cd8b4fc45f27",
   "metadata": {},
   "outputs": [],
   "source": []
  },
  {
   "cell_type": "code",
   "execution_count": null,
   "id": "4e9622f0-7aef-4529-a9d5-b7bb072c6d38",
   "metadata": {},
   "outputs": [],
   "source": []
  }
 ],
 "metadata": {
  "kernelspec": {
   "display_name": "Python 3 (ipykernel)",
   "language": "python",
   "name": "python3"
  },
  "language_info": {
   "codemirror_mode": {
    "name": "ipython",
    "version": 3
   },
   "file_extension": ".py",
   "mimetype": "text/x-python",
   "name": "python",
   "nbconvert_exporter": "python",
   "pygments_lexer": "ipython3",
   "version": "3.11.5"
  }
 },
 "nbformat": 4,
 "nbformat_minor": 5
}
