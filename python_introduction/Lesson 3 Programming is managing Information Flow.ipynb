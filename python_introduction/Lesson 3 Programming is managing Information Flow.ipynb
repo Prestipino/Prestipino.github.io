{
 "cells": [
  {
   "cell_type": "markdown",
   "id": "1a25447a-0901-4a1d-84b2-a87d14b1fe5f",
   "metadata": {},
   "source": [
    "# Programming Overview"
   ]
  },
  {
   "cell_type": "markdown",
   "id": "c0c9e8f6-7d33-4580-ac35-7501fccf6ca0",
   "metadata": {
    "jp-MarkdownHeadingCollapsed": true
   },
   "source": [
    "A programming language involves defining a minimu set of instructions that a computer can understand and execute. \n",
    "\n",
    "* Input/Output: Implement input and output operations for user interaction. For instance:\n",
    ">user_input = input(\"Enter a value: \")  \n",
    ">print(\"Output: \", user_input)  \n",
    "\n",
    "* Assignment: Define a way to assign values to variables. For example:\n",
    ">variable_name = value\n",
    "\n",
    "* Arithmetic Operations: Implement basic arithmetic operations such as addition, subtraction, multiplication, and division. For instance:\n",
    ">result = a + b\n",
    "\n",
    "* $Conditional Statements$: Include conditional statements for decision-making. For example:\n",
    "```python\n",
    "if condition:  \n",
    "    code to execute if the condition is true  \n",
    "else:  \n",
    "    code to execute if the condition is false  \n",
    "```\n",
    "* $Loops$: Create loops for repetitive tasks. For instance:\n",
    "```python\n",
    "while condition:  \n",
    "    code to repeat while the condition is true  \n",
    "```\n",
    "* $Functions$: Define functions to encapsulate reusable blocks of code. For example:\n",
    "```python\n",
    "def function_name(parameters):  \n",
    "    function code  \n",
    "    return result  \n",
    "```"
   ]
  },
  {
   "cell_type": "markdown",
   "id": "62449085-edf6-4db1-a142-d09815c807f3",
   "metadata": {
    "jp-MarkdownHeadingCollapsed": true
   },
   "source": [
    "# Functions #"
   ]
  },
  {
   "cell_type": "markdown",
   "id": "f1e36805-c75d-445c-b0d8-400c43232a02",
   "metadata": {},
   "source": [
    "In programming, a function is a reusable, self-contained block of code that performs a specific task or set of tasks. Functions are fundamental to modular programming, allowing developers to break down a program into smaller, manageable pieces. \n",
    "\n",
    "A function is a block of code that can run when it is called aka parenthesis () after the function name. \n",
    " \n",
    "A function _can_ have **input arguments**, information usefull to its run.  \n",
    "A functions _can_ also have **output parameters**, which are the results of the function that the user expects to receive.\n",
    "\n",
    "We saw many built-in Python functions already, such as _type_, _len_, and so on. Also we saw the functions from some packages, for example, _math.sin_, Torino.team.\n",
    "\n",
    "Few examples:\n",
    "* the function $len$ has one input argument (a collection), and one output parameter (the number of item in the collection) \n",
    "* the function $team$ of module Torino has one input argument (player name), and no output\n",
    "* the function $now$ of module datetime from library datetime has no input argument, and one output parameter (time) "
   ]
  },
  {
   "cell_type": "code",
   "execution_count": 1,
   "id": "3c5c5f45-2370-4b2f-b4c8-e89579183c4f",
   "metadata": {},
   "outputs": [
    {
     "name": "stdout",
     "output_type": "stream",
     "text": [
      "out1=  4\n",
      "player = Bruno\n",
      "out2=  None\n",
      "out3=  2023-12-14 16:57:36.205080\n"
     ]
    }
   ],
   "source": [
    "import Torino\n",
    "from datetime import datetime \n",
    "\n",
    "a = [2,4,'t',{}]\n",
    "\n",
    "out1 = len(a)\n",
    "print('out1= ', out1)\n",
    "\n",
    "out2 = Torino.team('Bruno')\n",
    "print('out2= ', out2)\n",
    "\n",
    "out3= datetime.now()\n",
    "print('out3= ', out3)"
   ]
  },
  {
   "cell_type": "markdown",
   "id": "1a53fc94-8e7b-4df9-868d-1aa4c9febc86",
   "metadata": {
    "jp-MarkdownHeadingCollapsed": true
   },
   "source": [
    "## Define your own function "
   ]
  },
  {
   "cell_type": "markdown",
   "id": "fe102566-434b-456b-94ac-6c5bab359c1f",
   "metadata": {},
   "source": [
    "We can define our own functions. A function can be specified in several ways. Here we will introduce the most common way to define a function which can be specified using the keyword *def*, as showing in the following:\n",
    "\n",
    "```python\n",
    "def function_name(argument_1, argument_2, ...):\n",
    "    '''\n",
    "    Descriptive String\n",
    "    '''\n",
    "    # comments about the statements\n",
    "    function_statements \n",
    "    \n",
    "    return output_parameters (optional)\n",
    "\n",
    "```\n",
    "\n",
    "We could see that defining a Python function need the following two components:\n",
    "\n",
    "1. **Function header:** A function header starts with a keyword *def*, followed by a pair of parentheses with the input arguments inside, and ends with a colon (:)\n",
    "\n",
    "2. **Function Body:** An indented (usually four white spaces) block to indicate the main body of the function. It consists 3 parts:\n",
    "\n",
    "    * *Descriptive string:* A string that describes the function that could be accessed by the *help()* function or the question mark. You can write any strings inside, it could be multiple lines. \n",
    "    * *Function statements:* These are the step by step instructions the function will execute when we call the function. You may also notice that there is a line starts with '#', this is a comment line, which means that the function will not execute it.\n",
    "    * *Return statements:* A function could return some parameters after the function is called, but this is optional, we could skip it. Any data type could be returned, even a function, we will explain more later. "
   ]
  },
  {
   "cell_type": "code",
   "execution_count": 2,
   "id": "eda11bcb-9047-4ced-81a8-85a048aa6aa2",
   "metadata": {},
   "outputs": [],
   "source": [
    "def count_different_vowels(in_string):\n",
    "    \"\"\" Returns the number of different vowels contained in `in_string`\"\"\"\n",
    "    vowels = set(\"AEIOU\")\n",
    "    out = set(in_string.upper()) & vowels\n",
    "    return len(out)"
   ]
  },
  {
   "cell_type": "code",
   "execution_count": 3,
   "id": "cebf5b48-e411-438e-930c-f32d982e3469",
   "metadata": {},
   "outputs": [
    {
     "data": {
      "text/plain": [
       "5"
      ]
     },
     "execution_count": 3,
     "metadata": {},
     "output_type": "execute_result"
    }
   ],
   "source": [
    " count_different_vowels(\" Returns the number of different vowels contained in `in_string`\")"
   ]
  },
  {
   "cell_type": "markdown",
   "id": "ebbbca0f-cc47-496d-82be-49819c740ba3",
   "metadata": {},
   "source": [
    "### LAMBDA ###\n",
    "Sometimes, we don’t want to use the normal way to define a function, especially if our function is just one line. In this case, we can use anonymous function in Python, which is a function that is defined without a name. This type of functions also called labmda function, since they are defined using the labmda keyword. A typical lambda function is defined:\n",
    "```python\n",
    "lambda arguments: expression\n",
    "```\n",
    "It can have any number of arguments, but with only one expression."
   ]
  },
  {
   "cell_type": "code",
   "execution_count": 4,
   "id": "fdaa1326-98ab-4b33-a3d1-5847a26a7331",
   "metadata": {},
   "outputs": [
    {
     "data": {
      "text/plain": [
       "False"
      ]
     },
     "execution_count": 4,
     "metadata": {},
     "output_type": "execute_result"
    }
   ],
   "source": [
    "# check if a number is even\n",
    "is_even = lambda x: x % 2 == 0\n",
    "\n",
    "is_even(9)"
   ]
  },
  {
   "cell_type": "code",
   "execution_count": null,
   "id": "ec26ff14-5b28-4408-b6fb-62c97c40d6c1",
   "metadata": {},
   "outputs": [],
   "source": []
  },
  {
   "cell_type": "markdown",
   "id": "dcf6654a-99cc-4919-a023-5367da90b852",
   "metadata": {
    "jp-MarkdownHeadingCollapsed": true
   },
   "source": [
    "# Branching Statements #"
   ]
  },
  {
   "cell_type": "markdown",
   "id": "69f453b5-3d2d-47ed-aacc-58f6ad0edf02",
   "metadata": {},
   "source": [
    "When writing functions, it is very common to want certain parts of the function body to be executed only under certain conditions. \n",
    "For example, depending from types parameters a different set of instruction should be executed."
   ]
  },
  {
   "cell_type": "code",
   "execution_count": 5,
   "id": "69b176d6-30c3-4af0-ae7a-eef649b77a23",
   "metadata": {},
   "outputs": [],
   "source": [
    "def assess_age(age):\n",
    "    if age < 0:\n",
    "        return \"Invalid age\"\n",
    "    elif 0 <= age < 18:\n",
    "        return \"Minor\"\n",
    "    elif 18 <= age < 65:\n",
    "        return \"Adult\"\n",
    "    else:\n",
    "        return \"Senior\"\n"
   ]
  },
  {
   "cell_type": "code",
   "execution_count": 6,
   "id": "1e3cb541-ce82-46be-9359-9ce7d5eb5f81",
   "metadata": {},
   "outputs": [
    {
     "data": {
      "text/plain": [
       "'Adult'"
      ]
     },
     "execution_count": 6,
     "metadata": {},
     "output_type": "execute_result"
    }
   ],
   "source": [
    "assess_age(24)"
   ]
  },
  {
   "cell_type": "markdown",
   "id": "48c2015c-963b-4002-b1d7-e07841196cce",
   "metadata": {
    "jp-MarkdownHeadingCollapsed": true
   },
   "source": [
    "# Iteration #"
   ]
  },
  {
   "cell_type": "markdown",
   "id": "cf869546-41cc-4c37-86bd-10d31fd05eac",
   "metadata": {},
   "source": [
    "Many tasks in life are boring or tedious because they require doing the same basic actions over and over again—iterating—in slightly different contexts. For example, consider looking up the definition of 20 words in the dictionary, populating a large EXCEL table  with data, alphabetizing many stacks of paper, or dusting off every object and shelf in your room. Since repetitive tasks appear so frequently, it is only natural that programming languages like Python would have direct methods of performing iteration.\n",
    "In Python two type of loop are available:  \n",
    "* $for$ loop\n",
    "* $while$ loop\n"
   ]
  },
  {
   "cell_type": "markdown",
   "id": "eb645e90-09db-49f5-aa6d-b12b6a23ffee",
   "metadata": {
    "jp-MarkdownHeadingCollapsed": true
   },
   "source": [
    "## FOR-Loop ##"
   ]
  },
  {
   "cell_type": "markdown",
   "id": "61f4bf83-fa89-4ebf-8e1f-5a0a05f56b73",
   "metadata": {},
   "source": [
    "A for-loop is a set of instructions that is repeated, or iterated, for every value in a collection (list, dict,tuple, set etc). \n",
    "The general syntax of a for-loop block is as follows.\n",
    ">for looping variable in sequence:  \n",
    ">   code block"
   ]
  },
  {
   "cell_type": "code",
   "execution_count": 7,
   "id": "09d852c9-dbbb-456a-84c0-aa8503b81534",
   "metadata": {},
   "outputs": [
    {
     "name": "stdout",
     "output_type": "stream",
     "text": [
      "0\n",
      "7.0\n",
      "23.2\n",
      "23.2\n",
      "24.2\n",
      "\n",
      "\n",
      " 24.2\n"
     ]
    }
   ],
   "source": [
    "# loop that sum the double of all the number in a a list if number are positives\n",
    "total = 0                               # outside the loop\n",
    "for num in (-22.0, 3.5, 8.1, -10, 0.5):\n",
    "    if num > 0:                        # Inside the loop\n",
    "        total = total + 2*num          # Inside the branching\n",
    "    print(total)                       # inside the loop\n",
    "\n",
    "print('\\n\\n',total)                    # outside the loop"
   ]
  },
  {
   "cell_type": "markdown",
   "id": "14b6fd17-ff97-4af7-b395-91a916c62d03",
   "metadata": {},
   "source": [
    "Attention *Python requires indentation to define statement blocks*\n",
    "\n",
    "\n",
    "#### WHAT IS HAPPENING? ####\n",
    "\n",
    "1) The variable **total** is assigned the value 0\n",
    "2) The variable **num** is assigned the value -22.0.\n",
    "3) **num** is less than 0, it continue the cycle\n",
    "4) The variable **num** is assigned the value 3.5.\n",
    "5) num >0\n",
    "6) The variable total is assigned to value of 0 + 2*3.5 = 7.0\n",
    "7) The variable **num** is assigned the value 8.1.\n",
    "8) num >0\n",
    "9) The variable total is assigned to value of 7.0 + 2*8.1 = 23.2\n",
    "10) The variable **num** is assigned the value -10.0.\n",
    "11) **num** is less than 0, it continue the cycle  \n",
    "...\n",
    "\n",
    "\n"
   ]
  },
  {
   "cell_type": "markdown",
   "id": "3a1d0b98-8023-4716-b5ff-2af4c8ecfcaf",
   "metadata": {},
   "source": [
    "To loop on ***dictionary***, if the loop in not explicit it will loop on keys.\n",
    "It is better to explicit using method $keys()$ or $values()$\n",
    "It is possible loop over keys and values using $items()$ method."
   ]
  },
  {
   "cell_type": "code",
   "execution_count": 8,
   "id": "3cc0ab9f-d2c9-444d-a866-5fb7236e2759",
   "metadata": {},
   "outputs": [
    {
     "name": "stdout",
     "output_type": "stream",
     "text": [
      "The price of an apple is $1.25\n",
      "The price of a banana is $0.75\n",
      "The price of an orange is $1.0\n",
      "The price of a bread is $2.5\n",
      "The price of a milk is $1.8\n",
      "The price of an eggs is $2.2\n",
      "The price of a chicken is $5.5\n",
      "The price of a potatoes is $1.5\n",
      "The price of a tomatoes is $2.0\n",
      "The price of an onions is $0.8\n",
      "\n",
      "\n",
      "\n",
      "The price of an apple is $1.25\n",
      "The price of a banana is $0.75\n",
      "The price of an orange is $1.0\n",
      "The price of a bread is $2.5\n",
      "The price of a milk is $1.8\n",
      "The price of an eggs is $2.2\n",
      "The price of a chicken is $5.5\n",
      "The price of a potatoes is $1.5\n",
      "The price of a tomatoes is $2.0\n",
      "The price of an onions is $0.8\n"
     ]
    }
   ],
   "source": [
    "grocery_prices = {\n",
    "    'apple': 1.25,\n",
    "    'banana': 0.75,\n",
    "    'orange': 1.00,\n",
    "    'bread': 2.50,\n",
    "    'milk': 1.80,\n",
    "    'eggs': 2.20,\n",
    "    'chicken': 5.50,\n",
    "    'potatoes': 1.50,\n",
    "    'tomatoes': 2.00,\n",
    "    'onions': 0.80\n",
    "}\n",
    "\n",
    "# print the dictionary with all price\n",
    "for key in grocery_prices:\n",
    "    if key[0] in 'aeiouAEIOU':\n",
    "        article = 'an'\n",
    "    else:\n",
    "        article = 'a'\n",
    "    print(f\"The price of {article} {key} is ${grocery_prices[key]}\")\n",
    "\n",
    "print('\\n\\n')\n",
    "# print the dictionary with all price\n",
    "for key, value in grocery_prices.items():\n",
    "    if key[0] in 'aeiouAEIOU':\n",
    "        article = 'an'\n",
    "    else:\n",
    "        article = 'a'\n",
    "    print(f\"The price of {article} {key} is ${value}\")"
   ]
  },
  {
   "cell_type": "markdown",
   "id": "af84cec5-8238-4657-8567-4454af1360b9",
   "metadata": {
    "jp-MarkdownHeadingCollapsed": true
   },
   "source": [
    "### 1) Fortran style loop: using range()###\n",
    "In Fortran, a typical loop structure is known as a DO loop. In Python, you can achieve a similar loop structure using the range function. Here's an example of a simple Fortran-style DO loop in Python:\n",
    "```python\n",
    "# Fortran-style loop\n",
    "start = 1\n",
    "end = 5\n",
    "step = 1\n",
    "\n",
    "for i in range(start, end + 1, step):\n",
    "    # Loop body\n",
    "    print(f\"Current value: {i}\") \n",
    "```\n",
    "In this example:\n",
    "* start is the starting value of the loop.\n",
    "* end is the ending value (exclusive) of the loop.\n",
    "* step is the increment between values.\n",
    "\n",
    "The range function generates a sequence of numbers from start to end - 1 with the specified step. The loop iterates over these values, and the loop body is executed for each iteration. If you want to achieve a Fortran-style loop where the loop index starts at 1 and ends at end, you can adjust the range parameters accordingly (default value for start and step are 0 and 1 respectivelly)"
   ]
  },
  {
   "cell_type": "code",
   "execution_count": 9,
   "id": "d91384b4-daf5-4e0a-8538-911efdb6eb40",
   "metadata": {},
   "outputs": [
    {
     "name": "stdout",
     "output_type": "stream",
     "text": [
      "Current value: 1, a[0] is equal to -22.000000\n",
      "Current value: 2, a[1] is equal to 3.500000\n",
      "Current value: 3, a[2] is equal to 8.100000\n",
      "Current value: 4, a[3] is equal to -10.000000\n",
      "Current value: 5, a[4] is equal to 0.500000\n"
     ]
    }
   ],
   "source": [
    "a= (-22.0, 3.5, 8.1, -10, 0.5)\n",
    "\n",
    "# Fortran-style loop starting from 1\n",
    "end = 5\n",
    "\n",
    "for i in range(1, end + 1):\n",
    "    # Loop body\n",
    "    print(f\"Current value: {i}, a[{i-1}] is equal to {a[i-1]:f}\")"
   ]
  },
  {
   "cell_type": "markdown",
   "id": "395137d1-3e25-45ee-ac64-97e0e7954515",
   "metadata": {
    "jp-MarkdownHeadingCollapsed": true
   },
   "source": [
    "### 2) Fortran style loop: using enumerate() ###\n",
    "The enumerate function in Python is a useful utility for iterating over elements in an iterable (e.g., a list, tuple, or string) while also keeping track of the index or position of each element. It returns pairs of index and element during each iteration, making it convenient for scenarios where you need both the item and its index. Here's a brief explanation and example:\n",
    "Syntax:\n",
    "```python\n",
    "enumerate(iterable, start=0)\n",
    "\n",
    "    iterable: The iterable to be enumerated.\n",
    "    start: (Optional) The starting value of the index. Default is 0.\n",
    "```\n",
    "Example:"
   ]
  },
  {
   "cell_type": "code",
   "execution_count": 10,
   "id": "f50aa46e-f25b-4333-af0a-937aec4372db",
   "metadata": {},
   "outputs": [
    {
     "name": "stdout",
     "output_type": "stream",
     "text": [
      "0 apple\n",
      "1 banana\n",
      "2 orange\n",
      "3 grape\n",
      "\n",
      "\n",
      "0 apple\n",
      "1 banana\n",
      "2 orange\n",
      "3 grape\n"
     ]
    }
   ],
   "source": [
    "fruits = ['apple', 'banana', 'orange', 'grape']\n",
    "\n",
    "# Without enumerate\n",
    "for i in range(len(fruits)):\n",
    "    print(i, fruits[i])\n",
    "print('\\n')\n",
    "# Using enumerate\n",
    "for index, fruit in enumerate(fruits):\n",
    "    print(index, fruit)"
   ]
  },
  {
   "cell_type": "markdown",
   "id": "142341bd-bc43-419a-8bb8-66cfc9b83afe",
   "metadata": {
    "jp-MarkdownHeadingCollapsed": true
   },
   "source": [
    "## WHILE-Loop ##"
   ]
  },
  {
   "cell_type": "markdown",
   "id": "d89b6419-8ba4-495f-b7ad-d9a2cc8c03aa",
   "metadata": {},
   "source": [
    "A while loop or indefinite loop is a set of instructions that is repeated as long as the associated logical expression is True. \n",
    "The following is the  syntax of a while loop block.\n",
    "```python\n",
    "while <logical expression>:\n",
    "    # Code block to be repeated until logical statement is false\n",
    "    code block\n",
    "```"
   ]
  },
  {
   "cell_type": "code",
   "execution_count": 11,
   "id": "23a21a25-1842-414a-a9c6-df8d7b6e4f3d",
   "metadata": {},
   "outputs": [
    {
     "name": "stdout",
     "output_type": "stream",
     "text": [
      "5\n"
     ]
    }
   ],
   "source": [
    "# demonstrating a basic while-loop\n",
    "total = 0\n",
    "while total < 5:\n",
    "    total += 1  # equivalent to: `total = total + 1`\n",
    "\n",
    "print(total)  # `total` has the value 2"
   ]
  },
  {
   "cell_type": "markdown",
   "id": "f1d36e72-858a-4252-9382-5954bf4b742a",
   "metadata": {
    "jp-MarkdownHeadingCollapsed": true
   },
   "source": [
    "## Further clauses in loop ##"
   ]
  },
  {
   "cell_type": "markdown",
   "id": "2938739b-876e-465d-b0d5-1dc6ac7c91f6",
   "metadata": {},
   "source": [
    "In Python, loops (such as for and while loops) can be augmented with break, continue, and else clauses to control their behavior. Here's an explanation of each:\n",
    "\n",
    "#### **break** Statement: ####\n",
    "        The break statement is used to exit a loop prematurely. When encountered, it terminates the loop immediately, and the control is transferred to the next statement following the loop.\n",
    "\n",
    "```python\n",
    "for i in range(5):\n",
    "    if i == 3:\n",
    "        break\n",
    "    print(i)\n",
    "# Output: 0 1 2\n",
    "```\n",
    "\n",
    "#### **continue** Statement: ####\n",
    "\n",
    "    The continue statement is used to skip the rest of the code inside a loop for the current iteration and move to the next iteration.\n",
    "```python\n",
    "\n",
    "for i in range(5):\n",
    "    if i == 2:\n",
    "        continue\n",
    "    print(i)\n",
    "# Output: 0 1 3 4\n",
    "```\n",
    "\n",
    "#### **else** Clause: #####\n",
    "\n",
    "    The else clause in a loop is executed when the loop condition becomes False. However, if the loop was terminated by a break statement, the else clause is skipped.\n",
    "\n",
    "```python\n",
    "\n",
    "    for i in range(5):\n",
    "        print(i)\n",
    "    else:\n",
    "        print(\"Loop completed without a break\")\n",
    "    # Output: 0 1 2 3 4 Loop completed without a break\n",
    "\n",
    "    for i in range(5):\n",
    "        if i == 2:\n",
    "            break\n",
    "        print(i)\n",
    "    else:\n",
    "        print(\"Loop completed without a break\")\n",
    "    # Output: 0 1\n",
    "```\n",
    "These constructs provide control flow mechanisms within loops. break and continue allow you to alter the normal flow of the loop based on certain conditions, and the else clause in a loop can be used for code that should be executed after the loop has completed successfully (without encountering a break statement)."
   ]
  },
  {
   "cell_type": "markdown",
   "id": "2449a13e-5a48-4fa8-ae21-e2332c6cb849",
   "metadata": {},
   "source": [
    "# SOME PROGRAMMING EXAMPLE #"
   ]
  },
  {
   "cell_type": "markdown",
   "id": "333b4ba4-3ab5-41a9-ba56-b79670d34f60",
   "metadata": {},
   "source": [
    "## Recursion ##"
   ]
  },
  {
   "cell_type": "markdown",
   "id": "2a8838b9-c7f8-461c-be2c-c17b0a0ef9ef",
   "metadata": {},
   "source": [
    "Very complex problem could be recurivelly break up on smaller handable problem. That is the base of functional program paradigm.\n",
    "\n",
    "for instance a function calculatin factorial could be reduced to one line\n",
    "```python\n",
    "factorial = lambda x: x1 if x==0 else x*factorial(x-1)"
   ]
  },
  {
   "attachments": {},
   "cell_type": "markdown",
   "id": "b3152e25-482a-479e-a008-4904ae785693",
   "metadata": {},
   "source": [
    "### A more complex problem: **The Tower of Hanoi** ###\n",
    "![The Tower of Hanoi](https://www.pixata.co.uk/wp-content/uploads/2021/05/Hanoi.jpg)\n",
    "\n",
    "\n",
    "The Tower of Hanoi is a classic problem in computer science and recursion. It involves moving a tower of disks from one peg to another, subject to the following constraints:\n",
    "\n",
    "*Only one disk can be moved at a time.\n",
    "*Each move consists of taking the upper disk from one of the stacks and placing it on top of another stack or on an empty rod.\n",
    "*No disk may be placed on top of a smaller disk.\n",
    "\n",
    "\n",
    "Explanation:\n",
    "1) The hanoi function is a recursive function that takes the number of disks (n) and three pegs (source, target, and auxiliary) as parameters.\n",
    "2) The base case (if n > 0) ensures that the recursion stops when there are no disks left to move.\n",
    "3) The recursive calls move n-1 disks from the source peg to the auxiliary peg and then move the nth disk from the source peg to the target peg.\n",
    "4) The function is called with the initial configuration of the Tower of Hanoi: hanoi(3, 'A', 'C', 'B'). This means there are 3 disks on peg 'A', and we want to move them to peg 'C' using peg 'B' as an auxiliary peg.\n",
    "\n",
    "    The output of the program shows the sequence of moves required to solve the Tower of Hanoi problem for 3 disks.\n",
    "\n",
    "This implementation follows the recursive nature of the Tower of Hanoi problem, where the movement of a tower of disks is broken down into smaller sub-problems.\n",
    "\n",
    "Here's a Python implementation of the Tower of Hanoi problem along with an explanation:"
   ]
  },
  {
   "cell_type": "code",
   "execution_count": 1,
   "id": "10808f35-c8c7-42ef-905b-933ad9666eb0",
   "metadata": {
    "editable": true,
    "slideshow": {
     "slide_type": ""
    },
    "tags": []
   },
   "outputs": [
    {
     "name": "stdout",
     "output_type": "stream",
     "text": [
      "Move disk 1 from A to C\n",
      "Move disk 2 from A to B\n",
      "Move disk 1 from C to B\n",
      "Move disk 3 from A to C\n",
      "Move disk 1 from B to A\n",
      "Move disk 2 from B to C\n",
      "Move disk 1 from A to C\n"
     ]
    }
   ],
   "source": [
    "def hanoi(n, source, target, auxiliary):\n",
    "    \"\"\"\n",
    "    Solves the Tower of Hanoi problem using recursion.\n",
    "\n",
    "    Parameters:\n",
    "    - n: Number of disks.\n",
    "    - source: Source peg.\n",
    "    - target: Target peg.\n",
    "    - auxiliary: Auxiliary peg.\n",
    "    \"\"\"\n",
    "###\n",
    "###\n",
    "###\n",
    "###\n",
    "\n",
    "\n",
    "# Example: Solve Tower of Hanoi for 3 disks\n",
    "hanoi(3, 'A', 'C', 'B')"
   ]
  },
  {
   "cell_type": "markdown",
   "id": "4ddb59c3-8e70-4f03-9255-2aaa31c0ebc8",
   "metadata": {},
   "source": [
    "## Iteration ##"
   ]
  },
  {
   "cell_type": "markdown",
   "id": "93bb04a8-7ae6-4373-ba92-2ed120a4f7f6",
   "metadata": {},
   "source": [
    "The Fibonacci sequence is a series of numbers in which each number is the sum of the two preceding ones, usually starting with 0 and 1.iT  is named after Leonardo of Pisa, an Italian mathematician also known as Fibonacci. He introduced the sequence to the Western world in his 1202 book \"Liber Abaci.\"\n",
    "\n",
    "The Fibonacci sequence is defined by the recurrence relation:\n",
    "\n",
    "$[ F(n) = F(n-1) + F(n-2) $\n",
    "\n",
    "with initial conditions \\( F(0) = 0 \\) and \\( F(1) = 1 \\). The sequence begins: \\( 0, 1, 1, 2, 3, 5, 8, 13, 21, \\ldots \\).\n",
    "\n",
    "Here's an example of the Fibonacci sequence using LaTeX in a mathematical context:\n",
    "\n",
    "$ F(0) = 0, $  \n",
    "$ F(1) = 1, $  \n",
    "$ F(2) = F(1) + F(0) = 1 + 0 = 1, ]  $  \n",
    "$ F(3) = F(2) + F(1) = 1 + 1 = 2, ]  $  \n",
    "$ F(4) = F(3) + F(2) = 2 + 1 = 3, ]  $  \n",
    "$ F(5) = F(4) + F(3) = 3 + 2 = 5, ]  $  \n",
    "$ F(6) = F(5) + F(4) = 5 + 3 = 8, ]  $  \n",
    "$ F(7) = F(6) + F(5) = 8 + 5 = 13, ] $  \n",
    "$ F(8) = F(7) + F(6) = 13 + 8 = 21, ] $  \n",
    "$ \\ldots $ \n",
    "\n",
    "The Fibonacci sequence is often encountered in various mathematical and natural contexts, showcasing its significance and interesting properties.\n",
    "\n",
    "\n",
    "\n",
    "The nature of series suggest a recursive approach"
   ]
  },
  {
   "cell_type": "code",
   "execution_count": 2,
   "id": "5fd3db0e-046e-4cfd-9069-ff00d1f91016",
   "metadata": {},
   "outputs": [
    {
     "name": "stdout",
     "output_type": "stream",
     "text": [
      "\n",
      "Recursive Fibonacci: 9227465\n",
      "CPU times: total: 1.78 s\n",
      "Wall time: 1.78 s\n"
     ]
    }
   ],
   "source": [
    "%%time\n",
    "def fibonacci_recursive(n):\n",
    "    if n <= 1:\n",
    "        return n\n",
    "    else:\n",
    "        return fibonacci_recursive(n-1) + fibonacci_recursive(n-2)\n",
    "\n",
    "# Example: Fibonacci sequence for n = 35\n",
    "result_recursive = fibonacci_recursive(35)\n",
    "print(\"\\nRecursive Fibonacci:\", result_recursive)\n"
   ]
  },
  {
   "attachments": {},
   "cell_type": "markdown",
   "id": "c6f5edc3-a23c-41f9-98f2-26aef63d72f7",
   "metadata": {},
   "source": [
    "very slow for a small serie  \n",
    "indeed all call of the function launch two other evaluations\n",
    "![image.png](https://pythonnumericalmethods.berkeley.edu/_images/06.01.02-Recursion_tree_for_fibonacci.png)"
   ]
  },
  {
   "cell_type": "code",
   "execution_count": 3,
   "id": "8edcb66e-832d-4b61-97e7-39095013b743",
   "metadata": {},
   "outputs": [
    {
     "name": "stdout",
     "output_type": "stream",
     "text": [
      "Iterative Fibonacci: 9227465\n",
      "CPU times: total: 0 ns\n",
      "Wall time: 0 ns\n"
     ]
    }
   ],
   "source": [
    "%%time\n",
    "### Iterative Approach:\n",
    "\n",
    "def fibonacci_iterative(n):\n",
    "    if n <= 1:\n",
    "        return n\n",
    "    a, b = 0, 1\n",
    "    for _ in range(n - 1):\n",
    "        a, b = b, a + b\n",
    "    return b\n",
    "\n",
    "# Example: Fibonacci sequence for  n = 35\n",
    "result_iterative = fibonacci_iterative(35)\n",
    "print(\"Iterative Fibonacci:\", result_iterative)"
   ]
  },
  {
   "cell_type": "markdown",
   "id": "f2311b4f-ab9a-4ec7-a236-ae247c74915c",
   "metadata": {},
   "source": [
    "The recursive approach is concise and easy to understand, but it suffers from repeated calculations, leading to exponential time complexity.\n",
    "The iterative approach, using a loop, avoids redundancy and calculates each Fibonacci number once, resulting in linear time complexity.\n",
    "For small values of \\(n\\), both approaches may seem comparable. However, as \\(n\\) increases, the recursive approach becomes noticeably slower. Iteration is generally preferred for efficiency in such cases."
   ]
  },
  {
   "cell_type": "code",
   "execution_count": null,
   "id": "d0951f1e-b428-43af-b57d-6ca70fb9d55d",
   "metadata": {},
   "outputs": [],
   "source": []
  },
  {
   "cell_type": "markdown",
   "id": "db8b82c8-c79b-4eb8-bb2c-9bb12ad5a7a3",
   "metadata": {},
   "source": [
    "# EXERCISE #\n",
    "the function pyXRD.pt_table.pt_p(Atom, 'At_w') return  the atomic weight of an atom\n",
    "using such function create a function that return the molecular weight of a given formula\n"
   ]
  },
  {
   "cell_type": "code",
   "execution_count": null,
   "id": "15b342f0-9d3a-4af4-ae2b-0076d87ffb12",
   "metadata": {},
   "outputs": [],
   "source": []
  }
 ],
 "metadata": {
  "kernelspec": {
   "display_name": "Python 3 (ipykernel)",
   "language": "python",
   "name": "python3"
  },
  "language_info": {
   "codemirror_mode": {
    "name": "ipython",
    "version": 3
   },
   "file_extension": ".py",
   "mimetype": "text/x-python",
   "name": "python",
   "nbconvert_exporter": "python",
   "pygments_lexer": "ipython3",
   "version": "3.11.5"
  }
 },
 "nbformat": 4,
 "nbformat_minor": 5
}
